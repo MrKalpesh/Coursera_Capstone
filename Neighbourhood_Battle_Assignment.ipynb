{
  "nbformat": 4,
  "nbformat_minor": 0,
  "metadata": {
    "colab": {
      "name": "Neighbourhood Battle Assignment.ipynb",
      "provenance": []
    },
    "kernelspec": {
      "name": "python3",
      "display_name": "Python 3"
    }
  },
  "cells": [
    {
      "cell_type": "markdown",
      "metadata": {
        "id": "AZx2286HTQ8r",
        "colab_type": "text"
      },
      "source": [
        "# **The Battle Of Neighbourhoods Assignment (Week5)**\n",
        "## **Part 1 (Introduction)**\n",
        "A description of the problem and a discussion of the background. (15 marks)\n",
        "Clearly define a problem or an idea of your choice, where you would need to leverage the Foursquare location data to solve or execute. Remember that data science problems always target an audience and are meant to help a group of stakeholders solve a problem, so make sure that you explicitly describe your audience and why they would care about your problem.\n",
        "\n",
        "This submission will eventually become your Introduction/Business Problem section in your final report. So I recommend that you push the report (having your Introduction/Business Problem section only for now) to your Github repository and submit a link to it.\n",
        "\n",
        "### Business Problem:\n",
        "In this assignment we talk about How good Rio de Janeiro is to open a restaurant. And would it be a place with lots of reviews from customers? Which place seems to be the most popular and the last question would be Is there a more popular restaurant in the area and what cuisines are preferred around?\n",
        "\n",
        "The problem will be solved using the Foursquare API, looking at User Count and Tip Count. This issue will help everyone who wants to open a restaurant in Rio de Janeiro and wants to know if it is a good option where they intend to open.\n",
        "\n",
        "---\n",
        "\n",
        "\n",
        "## **Part 2**\n",
        "A description of the data and how it will be used to solve the problem. (15 marks)\n",
        "Describe the data that you will be using to solve the problem or execute your idea. Remember that you will need to use the Foursquare location data to solve the problem or execute your idea. You can absolutely use other datasets in combination with the Foursquare location data. So make sure that you provide adequate explanation and discussion, with examples, of the data that you will be using, even if it is only Foursquare location data.\n",
        "\n",
        "This submission will eventually become your Data section in your final report. So I recommend that you push the report (having your Data section) to your Github repository and submit a link to it.\n",
        "\n",
        "###About Data:\n",
        "The data that will are using is Foursquare's data for Rio de Janeiro city. We will focus on venues of restaurant type. The popularity will be an indicator for how good an area is for a restaurant.\n",
        "\n",
        "---\n",
        "\n"
      ]
    },
    {
      "cell_type": "markdown",
      "metadata": {
        "id": "WVj3UfPAXYad",
        "colab_type": "text"
      },
      "source": [
        "#Importing Important Libraries needed for Assignment"
      ]
    },
    {
      "cell_type": "code",
      "metadata": {
        "id": "czWl3euQLCkQ",
        "colab_type": "code",
        "colab": {
          "base_uri": "https://localhost:8080/",
          "height": 34
        },
        "outputId": "e2bce88c-b8a7-415c-bbad-e06b87189b3a"
      },
      "source": [
        "import numpy as np # library to handle data in a vectorized manner\n",
        "\n",
        "import pandas as pd # library for data analsysis\n",
        "pd.set_option('display.max_columns', None)\n",
        "pd.set_option('display.max_rows', None)\n",
        "\n",
        "import json # library to handle JSON files\n",
        "\n",
        "#!conda install -c conda-forge geopy --yes # uncomment this line if you haven't completed the Foursquare API lab\n",
        "from geopy.geocoders import Nominatim # convert an address into latitude and longitude values\n",
        "\n",
        "import requests # library to handle requests\n",
        "from pandas.io.json import json_normalize # tranform JSON file into a pandas dataframe\n",
        "\n",
        "# Matplotlib and associated plotting modules\n",
        "import matplotlib.cm as cm\n",
        "import matplotlib.colors as colors\n",
        "\n",
        "# import k-means from clustering stage\n",
        "from sklearn.cluster import KMeans\n",
        "\n",
        "#!conda install -c conda-forge folium=0.5.0 --yes # uncomment this line if you haven't completed the Foursquare API lab\n",
        "import folium # map rendering library\n",
        "\n",
        "print('Libraries imported.')\n"
      ],
      "execution_count": 18,
      "outputs": [
        {
          "output_type": "stream",
          "text": [
            "Libraries imported.\n"
          ],
          "name": "stdout"
        }
      ]
    },
    {
      "cell_type": "markdown",
      "metadata": {
        "id": "FxpaXJA8Xp0L",
        "colab_type": "text"
      },
      "source": [
        "# Fetching Location of Rio de Janeiro"
      ]
    },
    {
      "cell_type": "code",
      "metadata": {
        "id": "4nyhgrdJLM8q",
        "colab_type": "code",
        "colab": {
          "base_uri": "https://localhost:8080/",
          "height": 34
        },
        "outputId": "846634ec-2fac-447e-fc42-e6af5f04ef8e"
      },
      "source": [
        "# Get longitude and latitude for Toronto\n",
        "address = 'Rio de Janeiro, Rio de Janeiro'\n",
        "\n",
        "geolocator = Nominatim(user_agent=\"rio_explorer\")\n",
        "location = geolocator.geocode(address)\n",
        "latitude = location.latitude\n",
        "longitude = location.longitude\n",
        "print('The geograpical coordinate of Rio de Janeiro is {}, {}.'.format(latitude, longitude))"
      ],
      "execution_count": 19,
      "outputs": [
        {
          "output_type": "stream",
          "text": [
            "The geograpical coordinate of Rio de Janeiro is -22.9110137, -43.2093727.\n"
          ],
          "name": "stdout"
        }
      ]
    },
    {
      "cell_type": "markdown",
      "metadata": {
        "id": "Cv2A1w2vXz7J",
        "colab_type": "text"
      },
      "source": [
        "# Setting up FourSquare"
      ]
    },
    {
      "cell_type": "code",
      "metadata": {
        "id": "EvB5nCbiLRk0",
        "colab_type": "code",
        "colab": {
          "base_uri": "https://localhost:8080/",
          "height": 68
        },
        "outputId": "37ba2f13-fe46-4f7f-9d3e-7526af0a6ba8"
      },
      "source": [
        "# Set up Foursquare\n",
        "CLIENT_ID = '4UNRI4GOCXF002WSCBY0OXWPSBUP1VABD0QKXABMSVGR34IC' # your Foursquare ID\n",
        "CLIENT_SECRET = 'TOEMP4WMP4Q03AT2GBPAZF5KC13U5LB5BEZUBOZRA4LLP3QC' # your Foursquare Secret\n",
        "VERSION = '20180605' # Foursquare API version\n",
        "LIMIT = 100\n",
        "print('Your credentails:')\n",
        "print('CLIENT_ID: ' + CLIENT_ID)\n",
        "print('CLIENT_SECRET:' + CLIENT_SECRET)"
      ],
      "execution_count": 20,
      "outputs": [
        {
          "output_type": "stream",
          "text": [
            "Your credentails:\n",
            "CLIENT_ID: 4UNRI4GOCXF002WSCBY0OXWPSBUP1VABD0QKXABMSVGR34IC\n",
            "CLIENT_SECRET:TOEMP4WMP4Q03AT2GBPAZF5KC13U5LB5BEZUBOZRA4LLP3QC\n"
          ],
          "name": "stdout"
        }
      ]
    },
    {
      "cell_type": "code",
      "metadata": {
        "id": "9sBWuLf_L3qS",
        "colab_type": "code",
        "colab": {
          "base_uri": "https://localhost:8080/",
          "height": 34
        },
        "outputId": "9ff81395-c9ff-459f-e812-3b2b1e24b9cb"
      },
      "source": [
        "search_query = 'Restaurant'\n",
        "radius = 50000\n",
        "print(search_query + ' .... OK!')"
      ],
      "execution_count": 21,
      "outputs": [
        {
          "output_type": "stream",
          "text": [
            "Restaurant .... OK!\n"
          ],
          "name": "stdout"
        }
      ]
    },
    {
      "cell_type": "code",
      "metadata": {
        "id": "bl5u8APpL65-",
        "colab_type": "code",
        "colab": {
          "base_uri": "https://localhost:8080/",
          "height": 54
        },
        "outputId": "8d803d92-19e1-4e1f-823f-e3a2c1c2508f"
      },
      "source": [
        "url = 'https://api.foursquare.com/v2/venues/search?client_id={}&client_secret={}&ll={},{}&v={}&query={}&radius={}&limit={}'.format(CLIENT_ID, CLIENT_SECRET, latitude, longitude, VERSION, search_query, radius, LIMIT)\n",
        "url"
      ],
      "execution_count": 22,
      "outputs": [
        {
          "output_type": "execute_result",
          "data": {
            "text/plain": [
              "'https://api.foursquare.com/v2/venues/search?client_id=4UNRI4GOCXF002WSCBY0OXWPSBUP1VABD0QKXABMSVGR34IC&client_secret=TOEMP4WMP4Q03AT2GBPAZF5KC13U5LB5BEZUBOZRA4LLP3QC&ll=-22.9110137,-43.2093727&v=20180605&query=Restaurant&radius=50000&limit=100'"
            ]
          },
          "metadata": {
            "tags": []
          },
          "execution_count": 22
        }
      ]
    },
    {
      "cell_type": "code",
      "metadata": {
        "id": "yFK5BUihL-Y3",
        "colab_type": "code",
        "colab": {}
      },
      "source": [
        "results = requests.get(url).json()"
      ],
      "execution_count": 0,
      "outputs": []
    },
    {
      "cell_type": "code",
      "metadata": {
        "id": "V6V4TrpHMDWK",
        "colab_type": "code",
        "colab": {
          "base_uri": "https://localhost:8080/",
          "height": 428
        },
        "outputId": "bb470105-aab0-43b4-9dd4-e385c7981ede"
      },
      "source": [
        "# assign relevant part of JSON to venues\n",
        "venues = results['response']['venues']\n",
        "\n",
        "# tranform venues into a dataframe\n",
        "dataframe = json_normalize(venues)\n",
        "dataframe.head()"
      ],
      "execution_count": 24,
      "outputs": [
        {
          "output_type": "stream",
          "text": [
            "/usr/local/lib/python3.6/dist-packages/ipykernel_launcher.py:4: FutureWarning: pandas.io.json.json_normalize is deprecated, use pandas.json_normalize instead\n",
            "  after removing the cwd from sys.path.\n"
          ],
          "name": "stderr"
        },
        {
          "output_type": "execute_result",
          "data": {
            "text/html": [
              "<div>\n",
              "<style scoped>\n",
              "    .dataframe tbody tr th:only-of-type {\n",
              "        vertical-align: middle;\n",
              "    }\n",
              "\n",
              "    .dataframe tbody tr th {\n",
              "        vertical-align: top;\n",
              "    }\n",
              "\n",
              "    .dataframe thead th {\n",
              "        text-align: right;\n",
              "    }\n",
              "</style>\n",
              "<table border=\"1\" class=\"dataframe\">\n",
              "  <thead>\n",
              "    <tr style=\"text-align: right;\">\n",
              "      <th></th>\n",
              "      <th>id</th>\n",
              "      <th>name</th>\n",
              "      <th>categories</th>\n",
              "      <th>referralId</th>\n",
              "      <th>hasPerk</th>\n",
              "      <th>location.address</th>\n",
              "      <th>location.lat</th>\n",
              "      <th>location.lng</th>\n",
              "      <th>location.labeledLatLngs</th>\n",
              "      <th>location.distance</th>\n",
              "      <th>location.cc</th>\n",
              "      <th>location.city</th>\n",
              "      <th>location.state</th>\n",
              "      <th>location.country</th>\n",
              "      <th>location.formattedAddress</th>\n",
              "      <th>location.postalCode</th>\n",
              "      <th>location.crossStreet</th>\n",
              "    </tr>\n",
              "  </thead>\n",
              "  <tbody>\n",
              "    <tr>\n",
              "      <th>0</th>\n",
              "      <td>56e04e1d38fa3ae11155b863</td>\n",
              "      <td>Riá Restaurant</td>\n",
              "      <td>[{'id': '52e81612bcbc57f1066b79f1', 'name': 'B...</td>\n",
              "      <td>v-1588540267</td>\n",
              "      <td>False</td>\n",
              "      <td>Rua Riachuelo, 242</td>\n",
              "      <td>-22.914733</td>\n",
              "      <td>-43.188829</td>\n",
              "      <td>[{'label': 'display', 'lat': -22.914733, 'lng'...</td>\n",
              "      <td>2146</td>\n",
              "      <td>BR</td>\n",
              "      <td>Rio de Janeiro</td>\n",
              "      <td>RJ</td>\n",
              "      <td>Brasil</td>\n",
              "      <td>[Rua Riachuelo, 242, Rio de Janeiro, RJ, Brasil]</td>\n",
              "      <td>NaN</td>\n",
              "      <td>NaN</td>\n",
              "    </tr>\n",
              "    <tr>\n",
              "      <th>1</th>\n",
              "      <td>4ece6782cc219860f521dd5d</td>\n",
              "      <td>Restaurante Pitada</td>\n",
              "      <td>[{'id': '4bf58dd8d48988d16b941735', 'name': 'B...</td>\n",
              "      <td>v-1588540267</td>\n",
              "      <td>False</td>\n",
              "      <td>NaN</td>\n",
              "      <td>-22.909734</td>\n",
              "      <td>-43.191598</td>\n",
              "      <td>[{'label': 'display', 'lat': -22.9097338088607...</td>\n",
              "      <td>1828</td>\n",
              "      <td>BR</td>\n",
              "      <td>Rio de Janeiro</td>\n",
              "      <td>RJ</td>\n",
              "      <td>Brasil</td>\n",
              "      <td>[Rio de Janeiro, RJ, Brasil]</td>\n",
              "      <td>NaN</td>\n",
              "      <td>NaN</td>\n",
              "    </tr>\n",
              "    <tr>\n",
              "      <th>2</th>\n",
              "      <td>50e0b634e4b0f94bd8a38f47</td>\n",
              "      <td>Restaurant El Duero</td>\n",
              "      <td>[{'id': '4bf58dd8d48988d1c4941735', 'name': 'R...</td>\n",
              "      <td>v-1588540267</td>\n",
              "      <td>False</td>\n",
              "      <td>Navio Soberano</td>\n",
              "      <td>-22.892851</td>\n",
              "      <td>-43.189795</td>\n",
              "      <td>[{'label': 'display', 'lat': -22.8928508209919...</td>\n",
              "      <td>2849</td>\n",
              "      <td>BR</td>\n",
              "      <td>Rio de Janeiro</td>\n",
              "      <td>RJ</td>\n",
              "      <td>Brasil</td>\n",
              "      <td>[Navio Soberano, Rio de Janeiro, RJ, Brasil]</td>\n",
              "      <td>NaN</td>\n",
              "      <td>NaN</td>\n",
              "    </tr>\n",
              "    <tr>\n",
              "      <th>3</th>\n",
              "      <td>4ba85046f964a5201fd639e3</td>\n",
              "      <td>Restaurante Rampinha</td>\n",
              "      <td>[{'id': '4bf58dd8d48988d16b941735', 'name': 'B...</td>\n",
              "      <td>v-1588540267</td>\n",
              "      <td>False</td>\n",
              "      <td>Pç. da Bandeira, 201</td>\n",
              "      <td>-22.911713</td>\n",
              "      <td>-43.214886</td>\n",
              "      <td>[{'label': 'display', 'lat': -22.9117127074659...</td>\n",
              "      <td>570</td>\n",
              "      <td>BR</td>\n",
              "      <td>Rio de Janeiro</td>\n",
              "      <td>RJ</td>\n",
              "      <td>Brasil</td>\n",
              "      <td>[Pç. da Bandeira, 201, Rio de Janeiro, RJ, 202...</td>\n",
              "      <td>20270-150</td>\n",
              "      <td>NaN</td>\n",
              "    </tr>\n",
              "    <tr>\n",
              "      <th>4</th>\n",
              "      <td>54fc90bc498e67112301efff</td>\n",
              "      <td>Restaurante Drink's</td>\n",
              "      <td>[{'id': '52e81612bcbc57f1066b7a00', 'name': 'C...</td>\n",
              "      <td>v-1588540267</td>\n",
              "      <td>False</td>\n",
              "      <td>Travessa Angustura</td>\n",
              "      <td>-22.913848</td>\n",
              "      <td>-43.213167</td>\n",
              "      <td>[{'label': 'display', 'lat': -22.9138483642793...</td>\n",
              "      <td>500</td>\n",
              "      <td>BR</td>\n",
              "      <td>Rio de Janeiro</td>\n",
              "      <td>RJ</td>\n",
              "      <td>Brasil</td>\n",
              "      <td>[Travessa Angustura (Rua do Matoso), Rio de Ja...</td>\n",
              "      <td>NaN</td>\n",
              "      <td>Rua do Matoso</td>\n",
              "    </tr>\n",
              "  </tbody>\n",
              "</table>\n",
              "</div>"
            ],
            "text/plain": [
              "                         id                  name  \\\n",
              "0  56e04e1d38fa3ae11155b863        Riá Restaurant   \n",
              "1  4ece6782cc219860f521dd5d    Restaurante Pitada   \n",
              "2  50e0b634e4b0f94bd8a38f47   Restaurant El Duero   \n",
              "3  4ba85046f964a5201fd639e3  Restaurante Rampinha   \n",
              "4  54fc90bc498e67112301efff   Restaurante Drink's   \n",
              "\n",
              "                                          categories    referralId  hasPerk  \\\n",
              "0  [{'id': '52e81612bcbc57f1066b79f1', 'name': 'B...  v-1588540267    False   \n",
              "1  [{'id': '4bf58dd8d48988d16b941735', 'name': 'B...  v-1588540267    False   \n",
              "2  [{'id': '4bf58dd8d48988d1c4941735', 'name': 'R...  v-1588540267    False   \n",
              "3  [{'id': '4bf58dd8d48988d16b941735', 'name': 'B...  v-1588540267    False   \n",
              "4  [{'id': '52e81612bcbc57f1066b7a00', 'name': 'C...  v-1588540267    False   \n",
              "\n",
              "       location.address  location.lat  location.lng  \\\n",
              "0    Rua Riachuelo, 242    -22.914733    -43.188829   \n",
              "1                   NaN    -22.909734    -43.191598   \n",
              "2        Navio Soberano    -22.892851    -43.189795   \n",
              "3  Pç. da Bandeira, 201    -22.911713    -43.214886   \n",
              "4    Travessa Angustura    -22.913848    -43.213167   \n",
              "\n",
              "                             location.labeledLatLngs  location.distance  \\\n",
              "0  [{'label': 'display', 'lat': -22.914733, 'lng'...               2146   \n",
              "1  [{'label': 'display', 'lat': -22.9097338088607...               1828   \n",
              "2  [{'label': 'display', 'lat': -22.8928508209919...               2849   \n",
              "3  [{'label': 'display', 'lat': -22.9117127074659...                570   \n",
              "4  [{'label': 'display', 'lat': -22.9138483642793...                500   \n",
              "\n",
              "  location.cc   location.city location.state location.country  \\\n",
              "0          BR  Rio de Janeiro             RJ           Brasil   \n",
              "1          BR  Rio de Janeiro             RJ           Brasil   \n",
              "2          BR  Rio de Janeiro             RJ           Brasil   \n",
              "3          BR  Rio de Janeiro             RJ           Brasil   \n",
              "4          BR  Rio de Janeiro             RJ           Brasil   \n",
              "\n",
              "                           location.formattedAddress location.postalCode  \\\n",
              "0   [Rua Riachuelo, 242, Rio de Janeiro, RJ, Brasil]                 NaN   \n",
              "1                       [Rio de Janeiro, RJ, Brasil]                 NaN   \n",
              "2       [Navio Soberano, Rio de Janeiro, RJ, Brasil]                 NaN   \n",
              "3  [Pç. da Bandeira, 201, Rio de Janeiro, RJ, 202...           20270-150   \n",
              "4  [Travessa Angustura (Rua do Matoso), Rio de Ja...                 NaN   \n",
              "\n",
              "  location.crossStreet  \n",
              "0                  NaN  \n",
              "1                  NaN  \n",
              "2                  NaN  \n",
              "3                  NaN  \n",
              "4        Rua do Matoso  "
            ]
          },
          "metadata": {
            "tags": []
          },
          "execution_count": 24
        }
      ]
    },
    {
      "cell_type": "markdown",
      "metadata": {
        "id": "yoa_5brAYC2J",
        "colab_type": "text"
      },
      "source": [
        "# Cleaning and Keeping Required Data"
      ]
    },
    {
      "cell_type": "code",
      "metadata": {
        "id": "hfoIj6LrMINr",
        "colab_type": "code",
        "colab": {
          "base_uri": "https://localhost:8080/",
          "height": 394
        },
        "outputId": "b8b8af79-1d9a-4f89-9682-8b68c4bc1ce5"
      },
      "source": [
        "# keep only columns that include venue name, and anything that is associated with location\n",
        "filtered_columns = ['name', 'categories'] + [col for col in dataframe.columns if col.startswith('location.')] + ['id']\n",
        "dataframe_filtered = dataframe.loc[:, filtered_columns]\n",
        "\n",
        "# function that extracts the category of the venue\n",
        "def get_category_type(row):\n",
        "    try:\n",
        "        categories_list = row['categories']\n",
        "    except:\n",
        "        categories_list = row['venue.categories']\n",
        "        \n",
        "    if len(categories_list) == 0:\n",
        "        return None\n",
        "    else:\n",
        "        return categories_list[0]['name']\n",
        "\n",
        "# filter the category for each row\n",
        "dataframe_filtered['categories'] = dataframe_filtered.apply(get_category_type, axis=1)\n",
        "\n",
        "# clean column names by keeping only last term\n",
        "dataframe_filtered.columns = [column.split('.')[-1] for column in dataframe_filtered.columns]\n",
        "\n",
        "dataframe_filtered.head()"
      ],
      "execution_count": 25,
      "outputs": [
        {
          "output_type": "execute_result",
          "data": {
            "text/html": [
              "<div>\n",
              "<style scoped>\n",
              "    .dataframe tbody tr th:only-of-type {\n",
              "        vertical-align: middle;\n",
              "    }\n",
              "\n",
              "    .dataframe tbody tr th {\n",
              "        vertical-align: top;\n",
              "    }\n",
              "\n",
              "    .dataframe thead th {\n",
              "        text-align: right;\n",
              "    }\n",
              "</style>\n",
              "<table border=\"1\" class=\"dataframe\">\n",
              "  <thead>\n",
              "    <tr style=\"text-align: right;\">\n",
              "      <th></th>\n",
              "      <th>name</th>\n",
              "      <th>categories</th>\n",
              "      <th>address</th>\n",
              "      <th>lat</th>\n",
              "      <th>lng</th>\n",
              "      <th>labeledLatLngs</th>\n",
              "      <th>distance</th>\n",
              "      <th>cc</th>\n",
              "      <th>city</th>\n",
              "      <th>state</th>\n",
              "      <th>country</th>\n",
              "      <th>formattedAddress</th>\n",
              "      <th>postalCode</th>\n",
              "      <th>crossStreet</th>\n",
              "      <th>id</th>\n",
              "    </tr>\n",
              "  </thead>\n",
              "  <tbody>\n",
              "    <tr>\n",
              "      <th>0</th>\n",
              "      <td>Riá Restaurant</td>\n",
              "      <td>Bistro</td>\n",
              "      <td>Rua Riachuelo, 242</td>\n",
              "      <td>-22.914733</td>\n",
              "      <td>-43.188829</td>\n",
              "      <td>[{'label': 'display', 'lat': -22.914733, 'lng'...</td>\n",
              "      <td>2146</td>\n",
              "      <td>BR</td>\n",
              "      <td>Rio de Janeiro</td>\n",
              "      <td>RJ</td>\n",
              "      <td>Brasil</td>\n",
              "      <td>[Rua Riachuelo, 242, Rio de Janeiro, RJ, Brasil]</td>\n",
              "      <td>NaN</td>\n",
              "      <td>NaN</td>\n",
              "      <td>56e04e1d38fa3ae11155b863</td>\n",
              "    </tr>\n",
              "    <tr>\n",
              "      <th>1</th>\n",
              "      <td>Restaurante Pitada</td>\n",
              "      <td>Brazilian Restaurant</td>\n",
              "      <td>NaN</td>\n",
              "      <td>-22.909734</td>\n",
              "      <td>-43.191598</td>\n",
              "      <td>[{'label': 'display', 'lat': -22.9097338088607...</td>\n",
              "      <td>1828</td>\n",
              "      <td>BR</td>\n",
              "      <td>Rio de Janeiro</td>\n",
              "      <td>RJ</td>\n",
              "      <td>Brasil</td>\n",
              "      <td>[Rio de Janeiro, RJ, Brasil]</td>\n",
              "      <td>NaN</td>\n",
              "      <td>NaN</td>\n",
              "      <td>4ece6782cc219860f521dd5d</td>\n",
              "    </tr>\n",
              "    <tr>\n",
              "      <th>2</th>\n",
              "      <td>Restaurant El Duero</td>\n",
              "      <td>Restaurant</td>\n",
              "      <td>Navio Soberano</td>\n",
              "      <td>-22.892851</td>\n",
              "      <td>-43.189795</td>\n",
              "      <td>[{'label': 'display', 'lat': -22.8928508209919...</td>\n",
              "      <td>2849</td>\n",
              "      <td>BR</td>\n",
              "      <td>Rio de Janeiro</td>\n",
              "      <td>RJ</td>\n",
              "      <td>Brasil</td>\n",
              "      <td>[Navio Soberano, Rio de Janeiro, RJ, Brasil]</td>\n",
              "      <td>NaN</td>\n",
              "      <td>NaN</td>\n",
              "      <td>50e0b634e4b0f94bd8a38f47</td>\n",
              "    </tr>\n",
              "    <tr>\n",
              "      <th>3</th>\n",
              "      <td>Restaurante Rampinha</td>\n",
              "      <td>Brazilian Restaurant</td>\n",
              "      <td>Pç. da Bandeira, 201</td>\n",
              "      <td>-22.911713</td>\n",
              "      <td>-43.214886</td>\n",
              "      <td>[{'label': 'display', 'lat': -22.9117127074659...</td>\n",
              "      <td>570</td>\n",
              "      <td>BR</td>\n",
              "      <td>Rio de Janeiro</td>\n",
              "      <td>RJ</td>\n",
              "      <td>Brasil</td>\n",
              "      <td>[Pç. da Bandeira, 201, Rio de Janeiro, RJ, 202...</td>\n",
              "      <td>20270-150</td>\n",
              "      <td>NaN</td>\n",
              "      <td>4ba85046f964a5201fd639e3</td>\n",
              "    </tr>\n",
              "    <tr>\n",
              "      <th>4</th>\n",
              "      <td>Restaurante Drink's</td>\n",
              "      <td>Comfort Food Restaurant</td>\n",
              "      <td>Travessa Angustura</td>\n",
              "      <td>-22.913848</td>\n",
              "      <td>-43.213167</td>\n",
              "      <td>[{'label': 'display', 'lat': -22.9138483642793...</td>\n",
              "      <td>500</td>\n",
              "      <td>BR</td>\n",
              "      <td>Rio de Janeiro</td>\n",
              "      <td>RJ</td>\n",
              "      <td>Brasil</td>\n",
              "      <td>[Travessa Angustura (Rua do Matoso), Rio de Ja...</td>\n",
              "      <td>NaN</td>\n",
              "      <td>Rua do Matoso</td>\n",
              "      <td>54fc90bc498e67112301efff</td>\n",
              "    </tr>\n",
              "  </tbody>\n",
              "</table>\n",
              "</div>"
            ],
            "text/plain": [
              "                   name               categories               address  \\\n",
              "0        Riá Restaurant                   Bistro    Rua Riachuelo, 242   \n",
              "1    Restaurante Pitada     Brazilian Restaurant                   NaN   \n",
              "2   Restaurant El Duero               Restaurant        Navio Soberano   \n",
              "3  Restaurante Rampinha     Brazilian Restaurant  Pç. da Bandeira, 201   \n",
              "4   Restaurante Drink's  Comfort Food Restaurant    Travessa Angustura   \n",
              "\n",
              "         lat        lng                                     labeledLatLngs  \\\n",
              "0 -22.914733 -43.188829  [{'label': 'display', 'lat': -22.914733, 'lng'...   \n",
              "1 -22.909734 -43.191598  [{'label': 'display', 'lat': -22.9097338088607...   \n",
              "2 -22.892851 -43.189795  [{'label': 'display', 'lat': -22.8928508209919...   \n",
              "3 -22.911713 -43.214886  [{'label': 'display', 'lat': -22.9117127074659...   \n",
              "4 -22.913848 -43.213167  [{'label': 'display', 'lat': -22.9138483642793...   \n",
              "\n",
              "   distance  cc            city state country  \\\n",
              "0      2146  BR  Rio de Janeiro    RJ  Brasil   \n",
              "1      1828  BR  Rio de Janeiro    RJ  Brasil   \n",
              "2      2849  BR  Rio de Janeiro    RJ  Brasil   \n",
              "3       570  BR  Rio de Janeiro    RJ  Brasil   \n",
              "4       500  BR  Rio de Janeiro    RJ  Brasil   \n",
              "\n",
              "                                    formattedAddress postalCode  \\\n",
              "0   [Rua Riachuelo, 242, Rio de Janeiro, RJ, Brasil]        NaN   \n",
              "1                       [Rio de Janeiro, RJ, Brasil]        NaN   \n",
              "2       [Navio Soberano, Rio de Janeiro, RJ, Brasil]        NaN   \n",
              "3  [Pç. da Bandeira, 201, Rio de Janeiro, RJ, 202...  20270-150   \n",
              "4  [Travessa Angustura (Rua do Matoso), Rio de Ja...        NaN   \n",
              "\n",
              "     crossStreet                        id  \n",
              "0            NaN  56e04e1d38fa3ae11155b863  \n",
              "1            NaN  4ece6782cc219860f521dd5d  \n",
              "2            NaN  50e0b634e4b0f94bd8a38f47  \n",
              "3            NaN  4ba85046f964a5201fd639e3  \n",
              "4  Rua do Matoso  54fc90bc498e67112301efff  "
            ]
          },
          "metadata": {
            "tags": []
          },
          "execution_count": 25
        }
      ]
    },
    {
      "cell_type": "markdown",
      "metadata": {
        "id": "Hcn_2HGtX-JD",
        "colab_type": "text"
      },
      "source": [
        "# Creating Visualization"
      ]
    },
    {
      "cell_type": "code",
      "metadata": {
        "id": "VcqtLOpWMNqv",
        "colab_type": "code",
        "colab": {
          "base_uri": "https://localhost:8080/",
          "height": 763
        },
        "outputId": "0f64459e-11b8-44e7-b645-858643dd42d6"
      },
      "source": [
        "venues_map = folium.Map(location=[latitude, longitude], zoom_start=13) # generate map centred around the Conrad Hotel\n",
        "\n",
        "# add a red circle marker to represent the Conrad Hotel\n",
        "folium.CircleMarker(\n",
        "    [latitude, longitude],\n",
        "    radius=10,\n",
        "    color='red',\n",
        "    popup='Conrad Hotel',\n",
        "    fill = True,\n",
        "    fill_color = 'red',\n",
        "    fill_opacity = 0.6\n",
        ").add_to(venues_map)\n",
        "\n",
        "# add the Italian restaurants as blue circle markers\n",
        "for lat, lng, label in zip(dataframe_filtered.lat, dataframe_filtered.lng, dataframe_filtered.categories):\n",
        "    folium.CircleMarker(\n",
        "        [lat, lng],\n",
        "        radius=5,\n",
        "        color='blue',\n",
        "        popup=label,\n",
        "        fill = True,\n",
        "        fill_color='blue',\n",
        "        fill_opacity=0.6\n",
        "    ).add_to(venues_map)\n",
        "\n",
        "# display map\n",
        "venues_map"
      ],
      "execution_count": 26,
      "outputs": [
        {
          "output_type": "execute_result",
          "data": {
            "text/html": [
              "<div style=\"width:100%;\"><div style=\"position:relative;width:100%;height:0;padding-bottom:60%;\"><iframe src=\"about:blank\" style=\"position:absolute;width:100%;height:100%;left:0;top:0;border:none !important;\" data-html=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 onload=\"this.contentDocument.open();this.contentDocument.write(atob(this.getAttribute('data-html')));this.contentDocument.close();\" allowfullscreen webkitallowfullscreen mozallowfullscreen></iframe></div></div>"
            ],
            "text/plain": [
              "<folium.folium.Map at 0x7f45f8133358>"
            ]
          },
          "metadata": {
            "tags": []
          },
          "execution_count": 26
        }
      ]
    }
  ]
}